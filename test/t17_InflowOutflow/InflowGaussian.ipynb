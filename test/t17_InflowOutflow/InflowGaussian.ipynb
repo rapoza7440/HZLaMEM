{
 "metadata": {
  "language_info": {
   "codemirror_mode": {
    "name": "ipython",
    "version": 3
   },
   "file_extension": ".py",
   "mimetype": "text/x-python",
   "name": "python",
   "nbconvert_exporter": "python",
   "pygments_lexer": "ipython3",
   "version": "3.6.4-final"
  },
  "orig_nbformat": 2,
  "kernelspec": {
   "name": "Python 3.6.4 64-bit",
   "display_name": "Python 3.6.4 64-bit",
   "metadata": {
    "interpreter": {
     "hash": "aee8b7b246df8f9039afb4144a1f6fd8d2ca17a180786b69acc140d282b71a49"
    }
   }
  }
 },
 "nbformat": 4,
 "nbformat_minor": 2,
 "cells": [
  {
   "cell_type": "code",
   "execution_count": 2,
   "metadata": {},
   "outputs": [],
   "source": [
    "from sympy import *\n",
    "init_printing(use_unicode=False, wrap_line=False);"
   ]
  },
  {
   "source": [
    "This file derives the inflow velocity boundary condition, used for the plume"
   ],
   "cell_type": "markdown",
   "metadata": {}
  },
  {
   "cell_type": "code",
   "execution_count": 3,
   "metadata": {},
   "outputs": [],
   "source": [
    "x=Symbol('x');\n",
    "y=Symbol('y');\n",
    "xc=Symbol('xc');\n",
    "yc=Symbol('yc');\n",
    "xmax=Symbol('xmax');\n",
    "xmin=Symbol('xmin');\n",
    "ymax=Symbol('ymax');\n",
    "ymin=Symbol('ymin');\n",
    "c = Symbol('c');\n",
    "V_in = Symbol('V_in');\n",
    "V_out = Symbol('V_out');\n",
    "dV = Symbol('dV');\n"
   ]
  },
  {
   "source": [
    "**2D expression**\n",
    "\n",
    "\n"
   ],
   "cell_type": "markdown",
   "metadata": {}
  },
  {
   "cell_type": "code",
   "execution_count": 4,
   "metadata": {},
   "outputs": [
    {
     "output_type": "execute_result",
     "data": {
      "text/plain": [
       "                            ____         /-xc + xmax\\     ____         /-xc + xmin\\\n",
       "                          \\/ pi *c*dV*erf|----------|   \\/ pi *c*dV*erf|----------|\n",
       "                                         \\    c     /                  \\    c     /\n",
       "V_out*xmax - V_out*xmin + --------------------------- - ---------------------------\n",
       "                                       2                             2             "
      ],
      "image/png": "[encoded data removed]",
      "text/latex": "$$V_{out} xmax - V_{out} xmin + \\frac{c dV}{2} \\sqrt{\\pi} \\operatorname{erf}{\\left (\\frac{1}{c} \\left(- xc + xmax\\right) \\right )} - \\frac{c dV}{2} \\sqrt{\\pi} \\operatorname{erf}{\\left (\\frac{1}{c} \\left(- xc + xmin\\right) \\right )}$$"
     },
     "metadata": {},
     "execution_count": 4
    }
   ],
   "source": [
    "integrate(V_out+ dV*exp(- (x-xc)**2/c**2  ), (x,xmin, xmax))\n"
   ]
  },
  {
   "cell_type": "code",
   "execution_count": 5,
   "metadata": {},
   "outputs": [
    {
     "output_type": "stream",
     "name": "stdout",
     "text": [
      "V_out*xmax - V_out*xmin + sqrt(pi)*c*dV*erf((-xc + xmax)/c)/2 - sqrt(pi)*c*dV*erf((-xc + xmin)/c)/2\n"
     ]
    }
   ],
   "source": [
    "a=integrate( V_out+ dV*exp(- (x-xc)**2/c**2  ), (x,xmin, xmax))\n",
    "print(a)"
   ]
  },
  {
   "cell_type": "code",
   "execution_count": 6,
   "metadata": {},
   "outputs": [
    {
     "output_type": "execute_result",
     "data": {
      "text/plain": [
       "'V_out*xmax - V_out*xmin + (1.0L/2.0L)*sqrt(M_PI)*c*dV*erf((-xc + xmax)/c) - 1.0L/2.0L*sqrt(M_PI)*c*dV*erf((-xc + xmin)/c)'"
      ]
     },
     "metadata": {},
     "execution_count": 6
    }
   ],
   "source": [
    "ccode(a)"
   ]
  },
  {
   "source": [
    "**3D expression**\n",
    "\n",
    "Note that sympy has troubles to do the full integral with (x-xc) and (y-yc). \n",
    "Yet, we can look @ the analogy of what we have above "
   ],
   "cell_type": "markdown",
   "metadata": {}
  },
  {
   "cell_type": "code",
   "execution_count": 24,
   "metadata": {},
   "outputs": [
    {
     "output_type": "execute_result",
     "data": {
      "text/plain": [
       "                                                                        pi*dV*erf(xmax)*erf(ymax)   pi*dV*erf(xmax)*erf(ymin)   pi*dV*erf(xmin)*erf(ymax)   pi*dV*erf(xmin)*erf(ymin)\n",
       "V_out*xmax*ymax - V_out*xmax*ymin - V_out*xmin*ymax + V_out*xmin*ymin + ------------------------- - ------------------------- - ------------------------- + -------------------------\n",
       "                                                                                    4                           4                           4                           4            "
      ],
      "image/png": "[encoded data removed]",
      "text/latex": "$$V_{out} xmax ymax - V_{out} xmax ymin - V_{out} xmin ymax + V_{out} xmin ymin + \\frac{\\pi dV}{4} \\operatorname{erf}{\\left (xmax \\right )} \\operatorname{erf}{\\left (ymax \\right )} - \\frac{\\pi dV}{4} \\operatorname{erf}{\\left (xmax \\right )} \\operatorname{erf}{\\left (ymin \\right )} - \\frac{\\pi dV}{4} \\operatorname{erf}{\\left (xmin \\right )} \\operatorname{erf}{\\left (ymax \\right )} + \\frac{\\pi dV}{4} \\operatorname{erf}{\\left (xmin \\right )} \\operatorname{erf}{\\left (ymin \\right )}$$"
     },
     "metadata": {},
     "execution_count": 24
    }
   ],
   "source": [
    "integrate(V_out+ dV*exp(- (x**2+y**2)  ), (x,xmin,xmax),(y,ymin,ymax))"
   ]
  },
  {
   "cell_type": "code",
   "execution_count": 26,
   "metadata": {},
   "outputs": [
    {
     "output_type": "execute_result",
     "data": {
      "text/plain": [
       "'V_out*xmax*ymax - V_out*xmax*ymin - V_out*xmin*ymax + V_out*xmin*ymin + (1.0L/4.0L)*M_PI*dV*erf(xmax)*erf(ymax) - 1.0L/4.0L*M_PI*dV*erf(xmax)*erf(ymin) - 1.0L/4.0L*M_PI*dV*erf(xmin)*erf(ymax) + (1.0L/4.0L)*M_PI*dV*erf(xmin)*erf(ymin)'"
      ]
     },
     "metadata": {},
     "execution_count": 26
    }
   ],
   "source": [
    "a=integrate(V_out+ dV*exp(- (x**2+y**2)  ), (x,xmin,xmax),(y,ymin,ymax))\n",
    "ccode(a)"
   ]
  },
  {
   "cell_type": "code",
   "execution_count": 15,
   "metadata": {},
   "outputs": [
    {
     "output_type": "execute_result",
     "data": {
      "text/plain": [
       "<bound method Integral.doit of Integral(Integral(V_out + dV*exp((-(x - xc)**2 - (y - yc)**2)/c**2), x), y)>"
      ]
     },
     "metadata": {},
     "execution_count": 15
    }
   ],
   "source": []
  },
  {
   "cell_type": "code",
   "execution_count": null,
   "metadata": {},
   "outputs": [],
   "source": []
  }
 ]
}