{
 "cells": [
  {
   "cell_type": "markdown",
   "metadata": {},
   "source": [
    "Derivation of analytical solution of viscoelastic case with powerlaw rheology"
   ]
  },
  {
   "cell_type": "code",
   "execution_count": 1,
   "metadata": {},
   "outputs": [],
   "source": [
    "from sympy import *\n",
    "from sympy.parsing.sympy_parser import parse_expr\n",
    "import numpy as np\n",
    "from sympy.printing import print_ccode\n",
    "init_printing()"
   ]
  },
  {
   "cell_type": "code",
   "execution_count": 11,
   "metadata": {},
   "outputs": [],
   "source": [
    "e_vis,F1,AD,n,eterm,eta,G,t,e_tot=symbols('e_vis,F1,AD,n,eterm,eta,G,t,e_tot')"
   ]
  },
  {
   "cell_type": "code",
   "execution_count": 12,
   "metadata": {},
   "outputs": [],
   "source": [
    "tau = Function('tau');\n",
    "\n",
    "\n",
    "eta=1/F1/AD/(tau(t)**())*eterm\n",
    "#e_vis = tau/2/eta\n",
    "#e_el = diff(tau(t),t)\n",
    "\n"
   ]
  },
  {
   "cell_type": "code",
   "execution_count": 17,
   "metadata": {},
   "outputs": [
    {
     "data": {
      "image/png": "[encoded data removed]",
      "text/latex": [
       "$\\displaystyle \\tau{\\left(t \\right)} = 2.0 e_{tot} \\eta + \\frac{2.0 e^{G \\left(C_{1} - \\frac{1.0 t}{\\eta}\\right)}}{G}$"
      ],
      "text/plain": [
       "                           ⎛     1.0⋅t⎞\n",
       "                         G⋅⎜C₁ - ─────⎟\n",
       "                           ⎝       η  ⎠\n",
       "                    2.0⋅ℯ              \n",
       "τ(t) = 2.0⋅eₜₒₜ⋅η + ───────────────────\n",
       "                             G         "
      ]
     },
     "execution_count": 17,
     "metadata": {},
     "output_type": "execute_result"
    }
   ],
   "source": [
    "dsolve(1/2/G*Derivative(tau(t),t)+1/2/eta*tau(t)-e_tot,tau(t))"
   ]
  },
  {
   "cell_type": "code",
   "execution_count": null,
   "metadata": {},
   "outputs": [],
   "source": []
  }
 ],
 "metadata": {
  "kernelspec": {
   "display_name": "Python 3",
   "language": "python",
   "name": "python3"
  },
  "language_info": {
   "codemirror_mode": {
    "name": "ipython",
    "version": 3
   },
   "file_extension": ".py",
   "mimetype": "text/x-python",
   "name": "python",
   "nbconvert_exporter": "python",
   "pygments_lexer": "ipython3",
   "version": "3.6.4"
  }
 },
 "nbformat": 4,
 "nbformat_minor": 2
}
